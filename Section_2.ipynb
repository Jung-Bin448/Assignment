{
 "cells": [
  {
   "cell_type": "markdown",
   "metadata": {},
   "source": [
    "# Section 2: For Loops"
   ]
  },
  {
   "cell_type": "markdown",
   "metadata": {},
   "source": [
    "# 6. Multiplication Table: Write a Python program to print the  multiplication table of a given number using a for loop.\n",
    "\n",
    "Example:\n",
    "\n",
    "○ Input: 5\n",
    "\n",
    "○ Output: 5, 10, 15, ..., 50"
   ]
  },
  {
   "cell_type": "code",
   "execution_count": 2,
   "metadata": {},
   "outputs": [
    {
     "name": "stdout",
     "output_type": "stream",
     "text": [
      "Multiplication for 5 is:\n",
      "5\n",
      "10\n",
      "15\n",
      "20\n",
      "25\n",
      "30\n",
      "35\n",
      "40\n",
      "45\n",
      "50\n"
     ]
    }
   ],
   "source": [
    "num = int(input(\"Enter any number\"))\n",
    "print(f\"Multiplication for {num} is:\")\n",
    "\n",
    "for i in range(1,11):\n",
    "    result = num * i\n",
    "    print(f\"{result}\")"
   ]
  },
  {
   "cell_type": "markdown",
   "metadata": {},
   "source": [
    "# 7. Count Vowels: Write a program to count and display the number of vowels in a given string."
   ]
  },
  {
   "cell_type": "code",
   "execution_count": 9,
   "metadata": {},
   "outputs": [
    {
     "name": "stdout",
     "output_type": "stream",
     "text": [
      "The number of vowels in aeIOU is: 5\n"
     ]
    }
   ],
   "source": [
    "ab = input(\"Enter any words\")\n",
    "vowels = \"aeiouAEIOU\"\n",
    "count = 0\n",
    "\n",
    "for char in ab:\n",
    "    if char in vowels:\n",
    "        count += 1\n",
    "\n",
    "print(f\"The number of vowels in {ab} is: {count}\")"
   ]
  },
  {
   "cell_type": "markdown",
   "metadata": {},
   "source": [
    "# 8. Sum of Even Numbers Create a program to find the sum of all even numbers in a list using a for loop.\n",
    "\n",
    "Example:\n",
    "\n",
    "○ Input: [2, 5, 8, 3]\n",
    "\n",
    "○ Output: 10"
   ]
  },
  {
   "cell_type": "code",
   "execution_count": 11,
   "metadata": {},
   "outputs": [
    {
     "name": "stdout",
     "output_type": "stream",
     "text": [
      "Sum of Even number is: 10\n"
     ]
    }
   ],
   "source": [
    "num = [3,2,8]\n",
    "\n",
    "even = 0\n",
    "\n",
    "for nu in num:\n",
    "    if nu % 2 ==0:\n",
    "        even += nu\n",
    "        \n",
    "print(f\"Sum of Even number is: {even}\")"
   ]
  },
  {
   "cell_type": "markdown",
   "metadata": {},
   "source": [
    "# 9. Create a program to find the largest and smallest numbers in a list using a for loop.\n",
    "\n",
    "Example:\n",
    "\n",
    "○ Input = [10, 20, 5, 8], Output = Largest = 20, Smallest = 5"
   ]
  },
  {
   "cell_type": "code",
   "execution_count": 22,
   "metadata": {},
   "outputs": [
    {
     "name": "stdout",
     "output_type": "stream",
     "text": [
      "Largest:20 and Smallest:5\n"
     ]
    }
   ],
   "source": [
    "num = [10,20,5,8]\n",
    "\n",
    "la = num[0]\n",
    "sa = num[0]\n",
    "\n",
    "for nu in num:\n",
    "    if nu > la:\n",
    "        la = nu\n",
    "    if nu < sa:\n",
    "        sa = nu\n",
    "\n",
    "print(f\"Largest:{la} and Smallest:{sa}\")"
   ]
  },
  {
   "cell_type": "markdown",
   "metadata": {},
   "source": [
    "# 10. Write a program to calculate the sum of digits of a given number using a for loop.\n",
    "\n",
    "Example: Input = 1234, Output = 10"
   ]
  },
  {
   "cell_type": "code",
   "execution_count": 21,
   "metadata": {},
   "outputs": [
    {
     "name": "stdout",
     "output_type": "stream",
     "text": [
      "10\n"
     ]
    }
   ],
   "source": [
    "num = 1234\n",
    "\n",
    "sum=0\n",
    "\n",
    "while num > 0:\n",
    "    nu = num % 10\n",
    "    sum += nu\n",
    "    num = num // 10\n",
    "\n",
    "print(sum)"
   ]
  },
  {
   "cell_type": "markdown",
   "metadata": {},
   "source": [
    "# 11. Write a program to reverse a given string using a for loop.\n",
    "\n",
    "Example: Input = \"Python\", Output = \"nohtyP\""
   ]
  },
  {
   "cell_type": "code",
   "execution_count": 1,
   "metadata": {},
   "outputs": [
    {
     "name": "stdout",
     "output_type": "stream",
     "text": [
      "The reverse of 'python' is 'nohtyp'.\n"
     ]
    }
   ],
   "source": [
    "def rev_str():\n",
    "    a = input(\"Enter a string to reverse: \")\n",
    "    reversed_str = \"\"\n",
    "    for char in a:\n",
    "        reversed_str = char + reversed_str\n",
    "    print(f\"The reverse of '{a}' is '{reversed_str}'.\")\n",
    "\n",
    "rev_str()"
   ]
  }
 ],
 "metadata": {
  "kernelspec": {
   "display_name": "Python 3",
   "language": "python",
   "name": "python3"
  },
  "language_info": {
   "codemirror_mode": {
    "name": "ipython",
    "version": 3
   },
   "file_extension": ".py",
   "mimetype": "text/x-python",
   "name": "python",
   "nbconvert_exporter": "python",
   "pygments_lexer": "ipython3",
   "version": "3.13.0"
  }
 },
 "nbformat": 4,
 "nbformat_minor": 2
}
