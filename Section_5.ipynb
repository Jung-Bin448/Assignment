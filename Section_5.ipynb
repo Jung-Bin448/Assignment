{
 "cells": [
  {
   "cell_type": "markdown",
   "metadata": {},
   "source": [
    "# Section 4: File Handling"
   ]
  },
  {
   "cell_type": "markdown",
   "metadata": {},
   "source": [
    "# 1. File Creation and Writing: Write a Python script to:\n",
    "\n",
    "○ Create a file named data.txt.\n",
    "\n",
    "○ Write the numbers from 1 to 10 (each on a new line) to the\n",
    "file.\n",
    "\n",
    "○ Read the file and print its contents."
   ]
  },
  {
   "cell_type": "code",
   "execution_count": null,
   "metadata": {},
   "outputs": [],
   "source": []
  },
  {
   "cell_type": "markdown",
   "metadata": {},
   "source": [
    "# 2. Word Count in File: Write a program that reads a file named\n",
    "sample.txt, counts the number of words in it, and prints the\n",
    "result."
   ]
  },
  {
   "cell_type": "code",
   "execution_count": null,
   "metadata": {},
   "outputs": [],
   "source": []
  }
 ],
 "metadata": {
  "language_info": {
   "name": "python"
  }
 },
 "nbformat": 4,
 "nbformat_minor": 2
}
