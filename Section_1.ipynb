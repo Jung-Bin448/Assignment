{
 "cells": [
  {
   "cell_type": "markdown",
   "metadata": {},
   "source": [
    "# Section 1: Condition Statement"
   ]
  },
  {
   "cell_type": "markdown",
   "metadata": {},
   "source": [
    "1) Write a program that asks the user to enter a number and checks\n",
    "whether the number is even or odd."
   ]
  },
  {
   "cell_type": "code",
   "execution_count": null,
   "metadata": {},
   "outputs": [
    {
     "name": "stdout",
     "output_type": "stream",
     "text": [
      "2 is Even\n"
     ]
    }
   ],
   "source": [
    "a = int(input(\"Enter any number: \"))\n",
    "if a % 2 == 0:\n",
    "    print(f\"{a} is Even\")\n",
    "else:\n",
    "    print(f\"{a} is Odd\")"
   ]
  },
  {
   "cell_type": "markdown",
   "metadata": {},
   "source": [
    "# 2) Write a program that asks the user to enter a number and checks whether it is positive, negative, or zero."
   ]
  },
  {
   "cell_type": "code",
   "execution_count": 12,
   "metadata": {},
   "outputs": [
    {
     "name": "stdout",
     "output_type": "stream",
     "text": [
      "-345 is Negitive Number\n"
     ]
    }
   ],
   "source": [
    "a = int(input(\"Enter any number: \"))\n",
    "if a >0:\n",
    "    print(f\"{a} is Positive Number\")\n",
    "elif a<0:\n",
    "    print(f\"{a} is Negitive Number\")\n",
    "else:\n",
    "    print(f\"{a} is Zero\")"
   ]
  },
  {
   "cell_type": "markdown",
   "metadata": {},
   "source": [
    "# 3. Write a program that asks the user to enter their age and checks if they are eligible to vote (18 years or older)."
   ]
  },
  {
   "cell_type": "code",
   "execution_count": 15,
   "metadata": {},
   "outputs": [
    {
     "name": "stdout",
     "output_type": "stream",
     "text": [
      "Your are eligible to vote.\n"
     ]
    }
   ],
   "source": [
    "age = int(input(\"Enter your age for voting\"))\n",
    "\n",
    "if age >= 18:\n",
    "    print(\"Your are eligible to vote.\")\n",
    "else:\n",
    "    print(\"You are not eligible to vote.\")"
   ]
  },
  {
   "cell_type": "markdown",
   "metadata": {},
   "source": [
    "# 4. Write a program that takes the lengths of three sides of a triangle as input and determines if the triangle is:\n",
    "\n",
    "○ Equilateral (all sides are equal)\n",
    "\n",
    "○ Isosceles (two sides are equal)\n",
    "\n",
    "○ Scalene (all sides are different)"
   ]
  },
  {
   "cell_type": "code",
   "execution_count": 21,
   "metadata": {},
   "outputs": [
    {
     "name": "stdout",
     "output_type": "stream",
     "text": [
      "It is Scalene Trianlge(All sides are different)\n"
     ]
    }
   ],
   "source": [
    "a = int(input(\"Enter the length of one side.\"))\n",
    "b = int(input(\"Enter another side Length.\"))\n",
    "c = int(input(\"Enter another side Length.\"))\n",
    "\n",
    "if a==b==c:\n",
    "    print(\"It is an Equilateral Triangle(All side equal)\")\n",
    "elif a==b or a==c or b==c:\n",
    "    print(\"It is Isosceles Triangle(Two sides are equal)\")\n",
    "else:\n",
    "    print(\"It is Scalene Trianlge(All sides are different)\")"
   ]
  },
  {
   "cell_type": "markdown",
   "metadata": {},
   "source": [
    "# 6. Write a program that asks the user to enter a password and checks if it matches a predefined password (e.g., \"Python123\")."
   ]
  },
  {
   "cell_type": "code",
   "execution_count": 23,
   "metadata": {},
   "outputs": [
    {
     "name": "stdout",
     "output_type": "stream",
     "text": [
      "Correct\n"
     ]
    }
   ],
   "source": [
    "Password = \"Python123\"\n",
    "\n",
    "pw=input(\"Enter Password\")\n",
    "\n",
    "if pw == Password:\n",
    "    print(\"Correct\")\n",
    "else:\n",
    "    print(\"Incorrect\")"
   ]
  }
 ],
 "metadata": {
  "kernelspec": {
   "display_name": "Python 3",
   "language": "python",
   "name": "python3"
  },
  "language_info": {
   "codemirror_mode": {
    "name": "ipython",
    "version": 3
   },
   "file_extension": ".py",
   "mimetype": "text/x-python",
   "name": "python",
   "nbconvert_exporter": "python",
   "pygments_lexer": "ipython3",
   "version": "3.13.0"
  }
 },
 "nbformat": 4,
 "nbformat_minor": 2
}
