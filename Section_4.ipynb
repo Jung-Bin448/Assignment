{
 "cells": [
  {
   "cell_type": "markdown",
   "metadata": {},
   "source": [
    "Section 4: Classes"
   ]
  },
  {
   "cell_type": "markdown",
   "metadata": {},
   "source": [
    "# 1. Rectangle Class:Define a class Rectangle with:\n",
    "\n",
    "○ Two attributes: length and width.\n",
    "\n",
    "○ A method area() to calculate the area.\n",
    "\n",
    "○ A method perimeter() to calculate the perimeter."
   ]
  },
  {
   "cell_type": "code",
   "execution_count": 1,
   "metadata": {},
   "outputs": [
    {
     "name": "stdout",
     "output_type": "stream",
     "text": [
      "Are of rectangle = 4\n",
      "Perimeter of rectangle = 8\n"
     ]
    }
   ],
   "source": [
    "class Rectangle():\n",
    "    def __init__(self,length,width):\n",
    "        self.length = length\n",
    "        self.width = width\n",
    "\n",
    "    def area(self):\n",
    "        return self.length * self.width\n",
    "\n",
    "    def per(self):\n",
    "        return 2 * (self.length + self.width)\n",
    "    \n",
    "value = Rectangle (2,2)\n",
    "print(f\"Are of rectangle = {value.area()}\")\n",
    "print(f\"Perimeter of rectangle = {value.per()}\")"
   ]
  },
  {
   "cell_type": "markdown",
   "metadata": {},
   "source": [
    "# 2. Student Class: Create a class Student with:\n",
    "\n",
    "○ Attributes: name, roll_number, and marks.\n",
    "\n",
    "○ A method display_details() to print the student's details.\n",
    "\n",
    "○ A method is_passed() that returns True if marks ≥ 40, else\n",
    "\n",
    "False."
   ]
  },
  {
   "cell_type": "code",
   "execution_count": 3,
   "metadata": {},
   "outputs": [
    {
     "name": "stdout",
     "output_type": "stream",
     "text": [
      "Name: Binaya\n",
      "Roll number: 8\n",
      "Marks: 99\n",
      "Passed:  True\n"
     ]
    }
   ],
   "source": [
    "class Student():\n",
    "    def __init__(self,name,roll_number,marks):\n",
    "        self.name = name\n",
    "        self.roll_number = roll_number\n",
    "        self.marks = marks\n",
    "\n",
    "    def display_details(self):\n",
    "        print(f\"Name: {self.name}\\nRoll number: {self.roll_number}\\nMarks: {self.marks}\")\n",
    "\n",
    "    def is_passed(self):\n",
    "        return self.marks >= 40\n",
    "    \n",
    "std1 = Student(\"Binaya\",8,99)\n",
    "std1.display_details()\n",
    "print(\"Passed: \",std1.is_passed())"
   ]
  },
  {
   "cell_type": "markdown",
   "metadata": {},
   "source": [
    "# 3. Define a class Circle with:\n",
    "\n",
    "● Attribute: radius.\n",
    "\n",
    "● Methods: area() to calculate the area, circumference() to\n",
    "calculate the circumference."
   ]
  },
  {
   "cell_type": "code",
   "execution_count": 4,
   "metadata": {},
   "outputs": [
    {
     "name": "stdout",
     "output_type": "stream",
     "text": [
      "Area odf the circle = 201.06\n",
      "Circumference of the circle = 50.27\n"
     ]
    }
   ],
   "source": [
    "import math\n",
    "\n",
    "class Circle():\n",
    "    def __init__(self,radius):\n",
    "        self.radius = radius\n",
    "    def area(self):\n",
    "        return math.pi * self.radius **2\n",
    "    def circ(self):\n",
    "        return 2 * math.pi * self.radius\n",
    "    \n",
    "\n",
    "res = Circle(8)\n",
    "print(f\"Area odf the circle = {res.area():.2f}\")\n",
    "print(f\"Circumference of the circle = {res.circ():.2f}\")"
   ]
  },
  {
   "cell_type": "markdown",
   "metadata": {},
   "source": [
    "# 4. Create a class BankAccount with:\n",
    "\n",
    "● Attributes: account_number, account_holder, balance.\n",
    "\n",
    "● Methods:\n",
    "\n",
    "○ deposit(amount) to add money to the account.\n",
    "\n",
    "○ withdraw(amount) to subtract money (if sufficient\n",
    "        balance is available).\n",
    "\n",
    "○ display_balance() to print the current balance."
   ]
  },
  {
   "cell_type": "code",
   "execution_count": 5,
   "metadata": {},
   "outputs": [
    {
     "name": "stdout",
     "output_type": "stream",
     "text": [
      "Deposit Balance: Rs.5000, New Balance: Rs.350354\n",
      "Withdraw amount: Rs.5000, New Balance: Rs.345354\n",
      "Current Balance: 345354\n"
     ]
    }
   ],
   "source": [
    "class BankAccount():\n",
    "    def __init__(self, account_number,account_holder,balance):\n",
    "        self.account_number = account_number\n",
    "        self.account_holder = account_holder\n",
    "        self.balance = balance\n",
    "    def deposit(self,amount):\n",
    "        self.balance += amount\n",
    "        print(f\"Deposit Balance: Rs.{amount}, New Balance: Rs.{self.balance}\")\n",
    "    def withdraw(self,amount):\n",
    "        if amount > self.balance:\n",
    "            return \"Insufficient balance\"\n",
    "        else:\n",
    "            self.balance -= amount\n",
    "            print(f\"Withdraw amount: Rs.{amount}, New Balance: Rs.{self.balance}\")\n",
    "\n",
    "    def display_balance(self):\n",
    "        print(f\"Current Balance: {self.balance}\")\n",
    "\n",
    "acc = BankAccount(234245,\"Binaya\",345354)\n",
    "acc.deposit(5000)\n",
    "acc.withdraw(5000)\n",
    "acc.display_balance()"
   ]
  },
  {
   "cell_type": "markdown",
   "metadata": {},
   "source": [
    "# 5. A class Book with:\n",
    "\n",
    "● Attributes: title, author, price.\n",
    "\n",
    "● Methods:\n",
    "\n",
    "○ apply_discount(discount) to reduce the price by a\n",
    "given percentage.\n",
    "\n",
    "○ display_details() to print the book details."
   ]
  },
  {
   "cell_type": "code",
   "execution_count": 6,
   "metadata": {},
   "outputs": [
    {
     "name": "stdout",
     "output_type": "stream",
     "text": [
      "Book Title: The Horizon\n",
      "Book's Author: Ji-HUn Jeong\n",
      "Book Price: 2068.2\n"
     ]
    }
   ],
   "source": [
    "class Book():\n",
    "    def __init__(self,title,author,price):\n",
    "        self.title = title\n",
    "        self.author = author\n",
    "        self.price = price\n",
    "    def apply_discount(self,discount):\n",
    "        if 0 <= discount <= 100:\n",
    "            self.price -= (discount / 100) * self.price\n",
    "            return self.price\n",
    "        else:\n",
    "            print(\"Invalid number, please enter from 1 to 100\")\n",
    "\n",
    "    def display_details(self):\n",
    "        print(f\"Book Title: {self.title}\\nBook's Author: {self.author}\\nBook Price: {self.price}\")\n",
    "\n",
    "boo = Book(\"The Horizon\", \"Ji-HUn Jeong\", 2298)\n",
    "boo.apply_discount(10)\n",
    "boo.display_details()"
   ]
  },
  {
   "cell_type": "markdown",
   "metadata": {},
   "source": [
    "# 6. Create a class Calculator with:\n",
    "\n",
    "○ A method add(a, b) to add two numbers.\n",
    "\n",
    "○ A method subtract(a, b) to subtract two numbers.\n",
    "\n",
    "○ A method multiply(a, b) to multiply two numbers.\n",
    "\n",
    "○ A method divide(a, b) to divide two numbers (handle division\n",
    "by zero gracefully)."
   ]
  },
  {
   "cell_type": "code",
   "execution_count": 8,
   "metadata": {},
   "outputs": [
    {
     "name": "stdout",
     "output_type": "stream",
     "text": [
      "Add: 65\n",
      "Subtrace: -221\n",
      "Multiply: 1962262\n",
      "Divide: 0.5\n"
     ]
    }
   ],
   "source": [
    "class Calculator:\n",
    "     \n",
    "    def add(self , a , b):\n",
    "        return a  + b\n",
    "    \n",
    "    def subtract(self , a , b):\n",
    "        return a  - b\n",
    "    \n",
    "    def multiply(self , a , b):\n",
    "        return a  * b\n",
    "    \n",
    "    def divide(self , a , b):\n",
    "        if b != 0:\n",
    "            return a  / b\n",
    "        \n",
    "        return\"Division by Zero is not allowed\"\n",
    "\n",
    "cal = Calculator()\n",
    "print(f\"Add: {cal.add(11 , 54)}\")\n",
    "print(f\"Subtrace: {cal.subtract(325 , 546)}\")\n",
    "print(f\"Multiply: {cal.multiply( 45634 ,43)}\")\n",
    "print(f\"Divide: {cal.divide(2 ,4)}\")"
   ]
  },
  {
   "cell_type": "markdown",
   "metadata": {},
   "source": [
    "# 7. Write a class Person with:\n",
    "\n",
    "○ Attributes: name, age, gender.\n",
    "\n",
    "○ Method introduce() to print a message like: \"Hello, my name\n",
    "is [name], I am [age] years old, and I am a [gender].\"\n",
    "\n",
    "○ Create a subclass Employee that adds:\n",
    "\n",
    "■ Attribute: job_title.\n",
    "\n",
    "■ Override introduce() to include the job title."
   ]
  },
  {
   "cell_type": "code",
   "execution_count": 16,
   "metadata": {},
   "outputs": [
    {
     "name": "stdout",
     "output_type": "stream",
     "text": [
      "Hello, my name is Binaya, I am 19 years old, and I am a Male.\n",
      "\n",
      "\n",
      "Hello, my name is Levi, I am 21 years old, I am a Male, and I kill Titans.\n"
     ]
    }
   ],
   "source": [
    "class Person():\n",
    "    def __init__(self,name,age,gender):\n",
    "        self.name = name\n",
    "        self.age = age\n",
    "        self.gender = gender\n",
    "\n",
    "    def introduce(self):\n",
    "        print(f\"Hello, my name is {self.name}, I am {self.age} years old, and I am a {self.gender}.\")\n",
    "\n",
    "class Employee(Person):\n",
    "\n",
    "    def __init__(self ,name :str , age  , gender , job_title ):\n",
    "        super().__init__(name , age, gender ) \n",
    "        self.job_title = job_title\n",
    "\n",
    "    def introduce(self):\n",
    "        print(f\"Hello, my name is {self.name}, I am {self.age} years old, I am a {self.gender}, and I kill {self.job_title}.\")\n",
    "\n",
    "person1 = Person(\"Binaya\" , 19 , \"Male\")\n",
    "person1.introduce()\n",
    "\n",
    "print(\"\\n\")\n",
    "\n",
    "employee1 = Employee(\"Levi\" , 21 , \"Male\" , \"Titans\")\n",
    "employee1.introduce()"
   ]
  }
 ],
 "metadata": {
  "kernelspec": {
   "display_name": "Python 3",
   "language": "python",
   "name": "python3"
  },
  "language_info": {
   "codemirror_mode": {
    "name": "ipython",
    "version": 3
   },
   "file_extension": ".py",
   "mimetype": "text/x-python",
   "name": "python",
   "nbconvert_exporter": "python",
   "pygments_lexer": "ipython3",
   "version": "3.13.0"
  }
 },
 "nbformat": 4,
 "nbformat_minor": 2
}
