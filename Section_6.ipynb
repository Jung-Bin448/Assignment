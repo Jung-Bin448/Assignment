{
 "cells": [
  {
   "cell_type": "markdown",
   "metadata": {},
   "source": [
    "Section 6: Error Handling"
   ]
  },
  {
   "cell_type": "markdown",
   "metadata": {},
   "source": [
    "# 1. Division with Error Handling: Write a program that takes two numbers as input and divides the first number by the second.\n",
    "\n",
    "○ Use try and except to handle the division by zero error."
   ]
  },
  {
   "cell_type": "code",
   "execution_count": 1,
   "metadata": {},
   "outputs": [
    {
     "name": "stdout",
     "output_type": "stream",
     "text": [
      "1.0\n"
     ]
    }
   ],
   "source": [
    "try:\n",
    "    num1 = int(input(\"Enter the first number: \"))\n",
    "    num2 = int(input(\"Enter the second number: \"))\n",
    "\n",
    "    result = num1 / num2\n",
    "    print(f\"{result}\")\n",
    "\n",
    "except ZeroDivisionError as e:\n",
    "    print(f\"Runtime Error: {e}\")"
   ]
  },
  {
   "cell_type": "markdown",
   "metadata": {},
   "source": [
    "# 2. Integer Input Validation: Create a program that asks the user to input an integer.\n",
    "\n",
    "○ Use try, except, and else to handle invalid input.\n",
    "\n",
    "Example:\n",
    "\n",
    "○ Input: abc\n",
    "\n",
    "○ Output: \"Invalid input, please enter an integer.\""
   ]
  },
  {
   "cell_type": "code",
   "execution_count": 2,
   "metadata": {},
   "outputs": [
    {
     "name": "stdout",
     "output_type": "stream",
     "text": [
      "Your input is: 234\n"
     ]
    }
   ],
   "source": [
    "while True:\n",
    "    try:\n",
    "        user_input_int = int(input(\"Enter Integer nuber: \"))\n",
    "        \n",
    "    except ValueError:\n",
    "        print(f\"Invalid input,please enter an integer\")\n",
    "    else:\n",
    "        print(f\"Your input is: {user_input_int}\")\n",
    "        break"
   ]
  },
  {
   "cell_type": "markdown",
   "metadata": {},
   "source": [
    "# 3. File Not Found Error Handling: Write a script that:\n",
    "\n",
    "○ Opens a file named unknown.txt.\n",
    "\n",
    "○ Handles the FileNotFoundError gracefully and prints an\n",
    "appropriate message."
   ]
  },
  {
   "cell_type": "code",
   "execution_count": 4,
   "metadata": {},
   "outputs": [
    {
     "name": "stdout",
     "output_type": "stream",
     "text": [
      "Error: The file 'unknown.txt' was not found.\n"
     ]
    }
   ],
   "source": [
    "try:\n",
    "    with open(\"unknown.txt\" , \"r\") as file:\n",
    "        contents = file.read()\n",
    "        print(contents)\n",
    "    \n",
    "\n",
    "except FileNotFoundError:\n",
    "    print(\"Error: The file 'unknown.txt' was not found.\")"
   ]
  }
 ],
 "metadata": {
  "kernelspec": {
   "display_name": "Python 3",
   "language": "python",
   "name": "python3"
  },
  "language_info": {
   "codemirror_mode": {
    "name": "ipython",
    "version": 3
   },
   "file_extension": ".py",
   "mimetype": "text/x-python",
   "name": "python",
   "nbconvert_exporter": "python",
   "pygments_lexer": "ipython3",
   "version": "3.13.0"
  }
 },
 "nbformat": 4,
 "nbformat_minor": 2
}
