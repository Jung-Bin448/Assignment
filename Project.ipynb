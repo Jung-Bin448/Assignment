{
 "cells": [
  {
   "cell_type": "markdown",
   "metadata": {},
   "source": [
    "Calculator"
   ]
  },
  {
   "cell_type": "code",
   "execution_count": 18,
   "metadata": {},
   "outputs": [
    {
     "name": "stdout",
     "output_type": "stream",
     "text": [
      "324 * 234 = 75816\n"
     ]
    }
   ],
   "source": [
    "import math\n",
    "\n",
    "a = int(input(\"Enter any number\"))\n",
    "b = int(input(\"Enter another number\"))\n",
    "c = input(\"Enter your sign\")\n",
    "\n",
    "add = \"+\"\n",
    "sub = \"-\"\n",
    "mul = \"*\"\n",
    "div = \"/\"\n",
    "\n",
    "if c == add:\n",
    "    sum = a + b\n",
    "    print(f\"{a} + {b} = {sum}\")\n",
    "elif c == sub:\n",
    "    diff = a - b\n",
    "    print(f\"{a} - {b} = {diff}\")\n",
    "elif c == mul:\n",
    "    tot = a * b\n",
    "    print(f\"{a} * {b} = {tot}\")\n",
    "else:\n",
    "    di = a / b\n",
    "    print(f\"{a} / {b} = {di}\")"
   ]
  }
 ],
 "metadata": {
  "kernelspec": {
   "display_name": "Python 3",
   "language": "python",
   "name": "python3"
  },
  "language_info": {
   "codemirror_mode": {
    "name": "ipython",
    "version": 3
   },
   "file_extension": ".py",
   "mimetype": "text/x-python",
   "name": "python",
   "nbconvert_exporter": "python",
   "pygments_lexer": "ipython3",
   "version": "3.13.0"
  }
 },
 "nbformat": 4,
 "nbformat_minor": 2
}
