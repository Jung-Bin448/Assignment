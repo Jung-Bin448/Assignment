{
 "cells": [
  {
   "cell_type": "markdown",
   "metadata": {},
   "source": [
    "# Section 3: Functions"
   ]
  },
  {
   "cell_type": "markdown",
   "metadata": {},
   "source": [
    "# 1. Factorial Function: Write a function factorial(n) that returns the factorial of a number using a for loop."
   ]
  },
  {
   "cell_type": "code",
   "execution_count": 22,
   "metadata": {},
   "outputs": [
    {
     "name": "stdout",
     "output_type": "stream",
     "text": [
      "The fracton of 12 is 479001600\n"
     ]
    }
   ],
   "source": [
    "def fraction():\n",
    "    num = int(input(\"Enter any number: \"))\n",
    "    if num < 0:\n",
    "        print(\"The given number is negitive\")\n",
    "        return\n",
    "    result = 1\n",
    "    for i in range(1 ,num + 1):\n",
    "        result *= i\n",
    "    print(f\"The fracton of {num} is {result}\")\n",
    "\n",
    "fraction()"
   ]
  },
  {
   "cell_type": "markdown",
   "metadata": {},
   "source": [
    "# 2. Prime Check Function: Create a function is_prime(n) to check whether a number is prime.\n",
    "\n",
    "Example:\n",
    "\n",
    "○ Input: 7\n",
    "\n",
    "○ Output: True"
   ]
  },
  {
   "cell_type": "code",
   "execution_count": 39,
   "metadata": {},
   "outputs": [
    {
     "name": "stdout",
     "output_type": "stream",
     "text": [
      "True\n"
     ]
    }
   ],
   "source": [
    "def is_prime(num):\n",
    "    num = int(input(\"ENter any number: \"))\n",
    "    if num < 2:\n",
    "        return False\n",
    "    i = 2\n",
    "    while i*i <= num:\n",
    "        if num % i == 0:\n",
    "            return False\n",
    "        i += 1 \n",
    "        return True\n",
    "    \n",
    "print(is_prime(11))"
   ]
  },
  {
   "cell_type": "markdown",
   "metadata": {},
   "source": [
    "# 3. Find Maximum in List:Write a function find_max(lst) to find and return the maximum value in a list.\n",
    "\n",
    "Example:\n",
    "\n",
    "○ Input: [1, 3, 7, 0]\n",
    "\n",
    "○ Output: 7"
   ]
  },
  {
   "cell_type": "code",
   "execution_count": 4,
   "metadata": {},
   "outputs": [
    {
     "name": "stdout",
     "output_type": "stream",
     "text": [
      "Input: [2, 4]\n",
      "Output: 4\n"
     ]
    }
   ],
   "source": [
    "lst_num = input(\"Enter any numbers with space\")\n",
    "lst = [int(num) for num in lst_num.split()]\n",
    "print(f\"Input: {lst}\")\n",
    "\n",
    "def find_max(lst):\n",
    "    if not lst:\n",
    "        return None\n",
    "    \n",
    "    max_numb = lst[0]\n",
    "\n",
    "    for num in lst:\n",
    "        if num > max_numb:\n",
    "            max_numb = num\n",
    "    return max_numb\n",
    "\n",
    "\n",
    "print(f\"Output: {find_max(lst)}\")"
   ]
  },
  {
   "cell_type": "markdown",
   "metadata": {},
   "source": [
    "# 4. Write a function palindrome_check(string) that returns True if the given string is a palindrome, otherwise False.\n",
    "\n",
    "Example: Input = \"radar\", Output = True"
   ]
  },
  {
   "cell_type": "code",
   "execution_count": 6,
   "metadata": {},
   "outputs": [
    {
     "name": "stdout",
     "output_type": "stream",
     "text": [
      "Input: bob\n",
      "Output: True\n"
     ]
    }
   ],
   "source": [
    "str = input(\"Enter any string\").lower()\n",
    "print(f\"Input: {str}\")\n",
    "\n",
    "def palindrome_check(String):\n",
    "\n",
    "    reverse_string = \"\"\n",
    "    for char in str:\n",
    "        reverse_string = char + reverse_string\n",
    "    if reverse_string == str:\n",
    "        return True\n",
    "    else:\n",
    "        return False\n",
    "    \n",
    "rev = palindrome_check(str)\n",
    "print(f\"Output: {rev}\")"
   ]
  },
  {
   "cell_type": "markdown",
   "metadata": {},
   "source": [
    "# 5. Write a function sum_of_squares(n) that returns the sum of squares of the first n natural numbers."
   ]
  },
  {
   "cell_type": "code",
   "execution_count": null,
   "metadata": {},
   "outputs": [
    {
     "name": "stdout",
     "output_type": "stream",
     "text": [
      "Input: 5\n",
      "Output: 55\n"
     ]
    }
   ],
   "source": [
    "n = int(input(\"Enter any number: \"))\n",
    "print(f\"Input: {n}\")\n",
    "def sum_of_squares(n):\n",
    "    if n < 1:\n",
    "        return \"Input must be positive number!\"\n",
    "    sum = 0\n",
    "    for i in range(1 , n + 1):\n",
    "        sum += i ** 2\n",
    "    return sum\n",
    "total = sum_of_squares(n)\n",
    "print(f\"Output: {total}\")"
   ]
  },
  {
   "cell_type": "markdown",
   "metadata": {},
   "source": [
    "# 6. Write a function sum_of_squares(n) that returns the sum of squares of the first n natural numbers.\n",
    "\n",
    "Example: Input = 3, Output = 1^2 + 2^2 + 3^2 = 14"
   ]
  },
  {
   "cell_type": "code",
   "execution_count": 24,
   "metadata": {},
   "outputs": [
    {
     "name": "stdout",
     "output_type": "stream",
     "text": [
      "Input: 5\n",
      "Output: 225\n"
     ]
    }
   ],
   "source": [
    "n = int(input(\"Enter any Number: \"))\n",
    "print(f\"Input: {n}\")\n",
    "def sum_of_cube(n):\n",
    "    if n < 1:\n",
    "        return \"Enter the positive number!\"\n",
    "    sum = 0\n",
    "    for i in range (1 , n + 1):\n",
    "        sum += i ** 3\n",
    "    return sum\n",
    "total = sum_of_cube(n)\n",
    "\n",
    "print(f\"Output: {total}\")"
   ]
  }
 ],
 "metadata": {
  "kernelspec": {
   "display_name": "Python 3",
   "language": "python",
   "name": "python3"
  },
  "language_info": {
   "codemirror_mode": {
    "name": "ipython",
    "version": 3
   },
   "file_extension": ".py",
   "mimetype": "text/x-python",
   "name": "python",
   "nbconvert_exporter": "python",
   "pygments_lexer": "ipython3",
   "version": "3.13.0"
  }
 },
 "nbformat": 4,
 "nbformat_minor": 2
}
